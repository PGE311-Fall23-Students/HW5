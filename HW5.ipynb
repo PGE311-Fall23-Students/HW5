{
 "cells": [
  {
   "cell_type": "markdown",
   "id": "146443ef",
   "metadata": {},
   "source": [
    "# HW5"
   ]
  },
  {
   "cell_type": "code",
   "execution_count": 11,
   "id": "54040b3b",
   "metadata": {},
   "outputs": [],
   "source": [
    "import numpy as np\n",
    "import matplotlib.pyplot as plt\n",
    "import math"
   ]
  },
  {
   "cell_type": "markdown",
   "id": "48bf3d3e",
   "metadata": {},
   "source": [
    "### Problem 3.3"
   ]
  },
  {
   "cell_type": "code",
   "execution_count": 25,
   "id": "9cdcebb3",
   "metadata": {},
   "outputs": [],
   "source": [
    "# Fill out monthly_payment(P, APR, n) function according to formula in the textbook\n",
    "def monthly_payment(P,APR,n):\n",
    "    i = APR/100/12\n",
    "    result = P*i*(1+i)**n/((1+i)**n - 1)\n",
    "    return(result)"
   ]
  },
  {
   "cell_type": "code",
   "execution_count": 26,
   "id": "859aa1dc",
   "metadata": {},
   "outputs": [
    {
     "name": "stdout",
     "output_type": "stream",
     "text": [
      "3-year loan:  1204.2310458682666\n",
      "4-year loan:  926.6175116241548\n",
      "5-year loan:  760.3594108794043\n",
      "6-year loan:  649.7783782254961\n"
     ]
    }
   ],
   "source": [
    "# Write a for loop or while loop to produce results of monthly payment for 3-, 4-, 5- and 6-year loan\n",
    "payment = np.zeros(4)\n",
    "for i in range(3,7):\n",
    "    payment[i-3] = monthly_payment(40000, 5.3, 12*i)\n",
    "    \n",
    "for i in range(4):\n",
    "    print(f'{i+3}-year loan: ', payment[i])"
   ]
  },
  {
   "cell_type": "markdown",
   "id": "ae0119b9",
   "metadata": {},
   "source": [
    "### Problem 3.5"
   ]
  },
  {
   "cell_type": "code",
   "execution_count": 27,
   "id": "054629fa",
   "metadata": {},
   "outputs": [
    {
     "name": "stdout",
     "output_type": "stream",
     "text": [
      "1-term relative error:  -14.89455921130061 %\n",
      "3-term relative error:  0.6162062822249786 %\n",
      "5-term relative error:  -0.011979720262811131 %\n",
      "7-term relative error:  0.00013529549944823314 %\n",
      "9-term relative error:  -9.98427874934727e-07 %\n",
      "11-term relative error:  5.1910391377532974e-09 %\n",
      "13-term relative error:  -2.0055044203596686e-11 %\n",
      "15-term relative error:  4.25195283468481e-14 %\n"
     ]
    },
    {
     "data": {
      "text/plain": [
       "0.783326909627483"
      ]
     },
     "execution_count": 27,
     "metadata": {},
     "output_type": "execute_result"
    }
   ],
   "source": [
    "# Fill out sine_approximate(x, num_term) function to compute sin(x) for up to and including num_term terms\n",
    "def sine_approximate(x, num_term):\n",
    "    s = 0\n",
    "    \n",
    "    for i in range(1, num_term+1):\n",
    "        \n",
    "        m = math.factorial(2*i-1)\n",
    "        s += (-1)**(i-1)*(x**(2*i-1))/m\n",
    "#         print('approximation is: ',s)\n",
    "        print(f'{2*i-1}-term relative error: ',(np.sin(x)-s)*100/np.sin(x), '%')\n",
    "    return(s)\n",
    "\n",
    "sine_approximate(0.9,8)"
   ]
  },
  {
   "cell_type": "markdown",
   "id": "53f46e96",
   "metadata": {},
   "source": [
    "### Problem 3.8"
   ]
  },
  {
   "cell_type": "code",
   "execution_count": 29,
   "id": "84623593",
   "metadata": {},
   "outputs": [],
   "source": [
    "# Fill out lettergrade(score) function\n",
    "def lettergrade(score):\n",
    "    if (score < 0 or score > 100):\n",
    "        print('Error exists')\n",
    "    elif (score <= 100 and score >= 90):\n",
    "        letter = 'A'\n",
    "    elif (score < 90 and score >= 80):\n",
    "        letter = 'B'\n",
    "    elif (score < 80 and score >= 70):\n",
    "        letter = 'C'\n",
    "    elif (score < 70 and score >= 60):\n",
    "        letter = 'D'\n",
    "    else:\n",
    "        letter = 'F'\n",
    "    return(letter)"
   ]
  },
  {
   "cell_type": "code",
   "execution_count": 30,
   "id": "74913d48",
   "metadata": {},
   "outputs": [
    {
     "data": {
      "text/plain": [
       "'A'"
      ]
     },
     "execution_count": 30,
     "metadata": {},
     "output_type": "execute_result"
    }
   ],
   "source": [
    "# Test your function with numerical scores of 89.9999, 90, 45 and 120\n",
    "lettergrade(90)"
   ]
  },
  {
   "cell_type": "markdown",
   "id": "5eddaf67",
   "metadata": {},
   "source": [
    "### Problem 3.13"
   ]
  },
  {
   "cell_type": "code",
   "execution_count": 6,
   "id": "578e13ca",
   "metadata": {},
   "outputs": [],
   "source": [
    "# Define a function named square_root(a, tolerance)\n",
    "def square_root(a, tolerance):\n",
    "    signal = 0\n",
    "    if a < 0:\n",
    "        a *= -1\n",
    "        signal = 1\n",
    "    old_x = a\n",
    "    tol = 1\n",
    "    while (tol > tolerance ):\n",
    "        new_x = (old_x + a/old_x)/2\n",
    "        tol = np.abs((new_x - old_x)/new_x)\n",
    "#         print('%.7f' % tol)\n",
    "        old_x = new_x      \n",
    "        \n",
    "    if(signal):\n",
    "        new_x = new_x*np.sqrt(-1+0j)\n",
    "    return(new_x)\n",
    "    "
   ]
  },
  {
   "cell_type": "code",
   "execution_count": 31,
   "id": "3e1b2298",
   "metadata": {},
   "outputs": [
    {
     "data": {
      "text/plain": [
       "7.4833147735478995"
      ]
     },
     "execution_count": 31,
     "metadata": {},
     "output_type": "execute_result"
    }
   ],
   "source": [
    "# Test your function for a tolerance of 1e-6 and values of 2, 10 and -3\n",
    "square_root(56, 1e-6)"
   ]
  },
  {
   "cell_type": "markdown",
   "id": "c26b6448",
   "metadata": {},
   "source": [
    "### Problem 3.14"
   ]
  },
  {
   "cell_type": "code",
   "execution_count": 9,
   "id": "3da53e19",
   "metadata": {},
   "outputs": [],
   "source": [
    "# Fill out v(t) function based on piecewise functions from textbook\n",
    "def v(t):\n",
    "\n",
    "    if t>=0 and t<=8:\n",
    "        v = 10*t**2-5*t\n",
    "    elif t>8 and t<=16:\n",
    "        v = 624-3*t\n",
    "    elif t>16 and t<=26:\n",
    "        v = 36*t+12*(t-16)**2\n",
    "    elif t>26:\n",
    "        v = 2136*np.exp(-0.1*(t-26))\n",
    "    else:\n",
    "        v = 0\n",
    "    return v\n"
   ]
  },
  {
   "cell_type": "code",
   "execution_count": 34,
   "id": "50ed33cc",
   "metadata": {},
   "outputs": [
    {
     "name": "stdout",
     "output_type": "stream",
     "text": [
      "result is:  1674.2823823406907\n"
     ]
    }
   ],
   "source": [
    "# Use the function to generate a plot of v versus t for -5 < t < 50\n",
    "t = np.linspace(-5,50)\n",
    "vel = np.zeros(50)\n",
    "for i in range(50):\n",
    "    vel[i] = v(t[i])\n",
    "# plt.plot(t,vel)\n",
    "# plt.xlim(-5,50)\n",
    "print('result is: ',v(t[26]))"
   ]
  },
  {
   "cell_type": "code",
   "execution_count": null,
   "id": "25cc48a9",
   "metadata": {},
   "outputs": [],
   "source": []
  }
 ],
 "metadata": {
  "kernelspec": {
   "display_name": "Python 3 (ipykernel)",
   "language": "python",
   "name": "python3"
  },
  "language_info": {
   "codemirror_mode": {
    "name": "ipython",
    "version": 3
   },
   "file_extension": ".py",
   "mimetype": "text/x-python",
   "name": "python",
   "nbconvert_exporter": "python",
   "pygments_lexer": "ipython3",
   "version": "3.9.16"
  }
 },
 "nbformat": 4,
 "nbformat_minor": 5
}
