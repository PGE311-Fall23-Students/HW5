{
 "cells": [
  {
   "cell_type": "markdown",
   "id": "146443ef",
   "metadata": {},
   "source": [
    "# HW5"
   ]
  },
  {
   "cell_type": "code",
   "execution_count": null,
   "id": "54040b3b",
   "metadata": {},
   "outputs": [],
   "source": [
    "import numpy as np\n",
    "import matplotlib.pyplot as plt\n",
    "import math"
   ]
  },
  {
   "cell_type": "markdown",
   "id": "48bf3d3e",
   "metadata": {},
   "source": [
    "### Problem 3.3"
   ]
  },
  {
   "cell_type": "code",
   "execution_count": null,
   "id": "9cdcebb3",
   "metadata": {},
   "outputs": [],
   "source": [
    "# Fill out monthly_payment(P, APR, n) function according to formula in the textbook\n",
    "def monthly_payment(P,APR,n):\n",
    "    \n",
    "    \n",
    "    \n",
    "    "
   ]
  },
  {
   "cell_type": "code",
   "execution_count": null,
   "id": "859aa1dc",
   "metadata": {},
   "outputs": [],
   "source": [
    "# Write a for loop or while loop to produce results of monthly payment for 3-, 4-, 5- and 6-year loan\n",
    "payment = np.zeros(4)\n",
    "\n",
    "\n",
    "\n",
    "    \n",
    "for i in range(4):\n",
    "    print(f'{i+3}-year loan: ', payment[i])"
   ]
  },
  {
   "cell_type": "markdown",
   "id": "ae0119b9",
   "metadata": {},
   "source": [
    "### Problem 3.5"
   ]
  },
  {
   "cell_type": "code",
   "execution_count": null,
   "id": "054629fa",
   "metadata": {},
   "outputs": [],
   "source": [
    "# Fill out sine_approximate(x, num_term) function to compute sin(x) for up to and including num_term terms\n",
    "def sine_approximate(x, num_term):\n",
    "    \n",
    "    \n",
    "    \n",
    "    \n",
    "    \n",
    "\n",
    "sine_approximate(0.9,8)"
   ]
  },
  {
   "cell_type": "markdown",
   "id": "53f46e96",
   "metadata": {},
   "source": [
    "### Problem 3.8"
   ]
  },
  {
   "cell_type": "code",
   "execution_count": null,
   "id": "84623593",
   "metadata": {},
   "outputs": [],
   "source": [
    "# Fill out lettergrade(score) function\n",
    "def lettergrade(score):\n",
    "    \n",
    "    \n",
    "    \n",
    "    \n",
    "    \n",
    "    \n",
    "    \n",
    "    "
   ]
  },
  {
   "cell_type": "code",
   "execution_count": null,
   "id": "74913d48",
   "metadata": {},
   "outputs": [],
   "source": [
    "# Test your function with numerical scores of 89.9999, 90, 45 and 120\n"
   ]
  },
  {
   "cell_type": "markdown",
   "id": "5eddaf67",
   "metadata": {},
   "source": [
    "### Problem 3.13"
   ]
  },
  {
   "cell_type": "code",
   "execution_count": null,
   "id": "578e13ca",
   "metadata": {},
   "outputs": [],
   "source": [
    "# Define a function named square_root(a, tolerance)\n",
    "def square_root(a, tolerance):\n",
    "    \n",
    "    \n",
    "    \n",
    "    \n",
    "    \n",
    "    \n",
    "    \n",
    "    \n",
    "    "
   ]
  },
  {
   "cell_type": "code",
   "execution_count": null,
   "id": "3e1b2298",
   "metadata": {},
   "outputs": [],
   "source": [
    "# Test your function for a tolerance of 1e-6 and values of 2, 10 and -3\n",
    "\n",
    "\n",
    "\n",
    "\n"
   ]
  },
  {
   "cell_type": "markdown",
   "id": "c26b6448",
   "metadata": {},
   "source": [
    "### Problem 3.14"
   ]
  },
  {
   "cell_type": "code",
   "execution_count": null,
   "id": "3da53e19",
   "metadata": {},
   "outputs": [],
   "source": [
    "# Fill out v(t) function based on piecewise functions from textbook\n",
    "def v(t):\n",
    "\n",
    "\n"
   ]
  },
  {
   "cell_type": "code",
   "execution_count": null,
   "id": "50ed33cc",
   "metadata": {},
   "outputs": [],
   "source": [
    "# Use v(t) function to generate a plot of v versus t for -5 < t < 50\n",
    "\n",
    "\n",
    "\n",
    "\n",
    "\n",
    "\n"
   ]
  }
 ],
 "metadata": {
  "kernelspec": {
   "display_name": "Python 3 (ipykernel)",
   "language": "python",
   "name": "python3"
  },
  "language_info": {
   "codemirror_mode": {
    "name": "ipython",
    "version": 3
   },
   "file_extension": ".py",
   "mimetype": "text/x-python",
   "name": "python",
   "nbconvert_exporter": "python",
   "pygments_lexer": "ipython3",
   "version": "3.9.16"
  }
 },
 "nbformat": 4,
 "nbformat_minor": 5
}
